{
 "cells": [
  {
   "cell_type": "markdown",
   "metadata": {},
   "source": [
    "# Setup"
   ]
  },
  {
   "cell_type": "code",
   "execution_count": 1,
   "metadata": {},
   "outputs": [
    {
     "data": {
      "text/html": [
       "<pre style=\"white-space:pre;overflow-x:auto;line-height:normal;font-family:Menlo,'DejaVu Sans Mono',consolas,'Courier New',monospace\"><span style=\"color: #7fbfbf; text-decoration-color: #7fbfbf\">[12/21/23 15:06:23] </span><span style=\"color: #800000; text-decoration-color: #800000\">WARNING </span> <span style=\"color: #800080; text-decoration-color: #800080\">/Users/bringmannj/miniconda3/envs/kedro-environment/lib/python3.10/sit</span> <a href=\"file:///Users/bringmannj/miniconda3/envs/kedro-environment/lib/python3.10/warnings.py\" target=\"_blank\"><span style=\"color: #7f7f7f; text-decoration-color: #7f7f7f\">warnings.py</span></a><span style=\"color: #7f7f7f; text-decoration-color: #7f7f7f\">:</span><a href=\"file:///Users/bringmannj/miniconda3/envs/kedro-environment/lib/python3.10/warnings.py#109\" target=\"_blank\"><span style=\"color: #7f7f7f; text-decoration-color: #7f7f7f\">109</span></a>\n",
       "<span style=\"color: #7fbfbf; text-decoration-color: #7fbfbf\">                    </span>         <span style=\"color: #800080; text-decoration-color: #800080\">e-packages/fs/</span><span style=\"color: #ff00ff; text-decoration-color: #ff00ff\">__init__.py</span>:<span style=\"color: #008080; text-decoration-color: #008080; font-weight: bold\">4</span>: DeprecationWarning: Deprecated call to    <span style=\"color: #7f7f7f; text-decoration-color: #7f7f7f\">               </span>\n",
       "<span style=\"color: #7fbfbf; text-decoration-color: #7fbfbf\">                    </span>         `<span style=\"color: #800080; text-decoration-color: #800080; font-weight: bold\">pkg_resources.declare_namespace</span><span style=\"font-weight: bold\">(</span><span style=\"color: #008000; text-decoration-color: #008000\">'fs'</span><span style=\"font-weight: bold\">)</span>`.                               <span style=\"color: #7f7f7f; text-decoration-color: #7f7f7f\">               </span>\n",
       "<span style=\"color: #7fbfbf; text-decoration-color: #7fbfbf\">                    </span>         Implementing implicit namespace packages <span style=\"font-weight: bold\">(</span>as specified in PEP <span style=\"color: #008080; text-decoration-color: #008080; font-weight: bold\">420</span><span style=\"font-weight: bold\">)</span> is  <span style=\"color: #7f7f7f; text-decoration-color: #7f7f7f\">               </span>\n",
       "<span style=\"color: #7fbfbf; text-decoration-color: #7fbfbf\">                    </span>         preferred to `pkg_resources.declare_namespace`. See                    <span style=\"color: #7f7f7f; text-decoration-color: #7f7f7f\">               </span>\n",
       "<span style=\"color: #7fbfbf; text-decoration-color: #7fbfbf\">                    </span>         <span style=\"color: #0000ff; text-decoration-color: #0000ff; text-decoration: underline\">https://setuptools.pypa.io/en/latest/references/keywords.html#keyword-</span> <span style=\"color: #7f7f7f; text-decoration-color: #7f7f7f\">               </span>\n",
       "<span style=\"color: #7fbfbf; text-decoration-color: #7fbfbf\">                    </span>         <span style=\"color: #0000ff; text-decoration-color: #0000ff; text-decoration: underline\">namespace-packages</span>                                                     <span style=\"color: #7f7f7f; text-decoration-color: #7f7f7f\">               </span>\n",
       "<span style=\"color: #7fbfbf; text-decoration-color: #7fbfbf\">                    </span>           <span style=\"color: #800080; text-decoration-color: #800080; font-weight: bold\">__import__</span><span style=\"font-weight: bold\">(</span><span style=\"color: #008000; text-decoration-color: #008000\">\"pkg_resources\"</span><span style=\"font-weight: bold\">)</span><span style=\"color: #800080; text-decoration-color: #800080; font-weight: bold\">.declare_namespace</span><span style=\"font-weight: bold\">(</span>__name__<span style=\"font-weight: bold\">)</span>  # type:     <span style=\"color: #7f7f7f; text-decoration-color: #7f7f7f\">               </span>\n",
       "<span style=\"color: #7fbfbf; text-decoration-color: #7fbfbf\">                    </span>         ignore                                                                 <span style=\"color: #7f7f7f; text-decoration-color: #7f7f7f\">               </span>\n",
       "<span style=\"color: #7fbfbf; text-decoration-color: #7fbfbf\">                    </span>                                                                                <span style=\"color: #7f7f7f; text-decoration-color: #7f7f7f\">               </span>\n",
       "</pre>\n"
      ],
      "text/plain": [
       "\u001b[2;36m[12/21/23 15:06:23]\u001b[0m\u001b[2;36m \u001b[0m\u001b[31mWARNING \u001b[0m \u001b[35m/Users/bringmannj/miniconda3/envs/kedro-environment/lib/python3.10/sit\u001b[0m \u001b]8;id=459450;file:///Users/bringmannj/miniconda3/envs/kedro-environment/lib/python3.10/warnings.py\u001b\\\u001b[2mwarnings.py\u001b[0m\u001b]8;;\u001b\\\u001b[2m:\u001b[0m\u001b]8;id=8098;file:///Users/bringmannj/miniconda3/envs/kedro-environment/lib/python3.10/warnings.py#109\u001b\\\u001b[2m109\u001b[0m\u001b]8;;\u001b\\\n",
       "\u001b[2;36m                    \u001b[0m         \u001b[35me-packages/fs/\u001b[0m\u001b[95m__init__.py\u001b[0m:\u001b[1;36m4\u001b[0m: DeprecationWarning: Deprecated call to    \u001b[2m               \u001b[0m\n",
       "\u001b[2;36m                    \u001b[0m         `\u001b[1;35mpkg_resources.declare_namespace\u001b[0m\u001b[1m(\u001b[0m\u001b[32m'fs'\u001b[0m\u001b[1m)\u001b[0m`.                               \u001b[2m               \u001b[0m\n",
       "\u001b[2;36m                    \u001b[0m         Implementing implicit namespace packages \u001b[1m(\u001b[0mas specified in PEP \u001b[1;36m420\u001b[0m\u001b[1m)\u001b[0m is  \u001b[2m               \u001b[0m\n",
       "\u001b[2;36m                    \u001b[0m         preferred to `pkg_resources.declare_namespace`. See                    \u001b[2m               \u001b[0m\n",
       "\u001b[2;36m                    \u001b[0m         \u001b[4;94mhttps://setuptools.pypa.io/en/latest/references/keywords.html#keyword-\u001b[0m \u001b[2m               \u001b[0m\n",
       "\u001b[2;36m                    \u001b[0m         \u001b[4;94mnamespace-packages\u001b[0m                                                     \u001b[2m               \u001b[0m\n",
       "\u001b[2;36m                    \u001b[0m           \u001b[1;35m__import__\u001b[0m\u001b[1m(\u001b[0m\u001b[32m\"pkg_resources\"\u001b[0m\u001b[1m)\u001b[0m\u001b[1;35m.declare_namespace\u001b[0m\u001b[1m(\u001b[0m__name__\u001b[1m)\u001b[0m  # type:     \u001b[2m               \u001b[0m\n",
       "\u001b[2;36m                    \u001b[0m         ignore                                                                 \u001b[2m               \u001b[0m\n",
       "\u001b[2;36m                    \u001b[0m                                                                                \u001b[2m               \u001b[0m\n"
      ]
     },
     "metadata": {},
     "output_type": "display_data"
    },
    {
     "data": {
      "text/html": [
       "<pre style=\"white-space:pre;overflow-x:auto;line-height:normal;font-family:Menlo,'DejaVu Sans Mono',consolas,'Courier New',monospace\"><span style=\"color: #7fbfbf; text-decoration-color: #7fbfbf\">                    </span><span style=\"color: #800000; text-decoration-color: #800000\">WARNING </span> <span style=\"color: #800080; text-decoration-color: #800080\">/Users/bringmannj/miniconda3/envs/kedro-environment/lib/python3.10/sit</span> <a href=\"file:///Users/bringmannj/miniconda3/envs/kedro-environment/lib/python3.10/warnings.py\" target=\"_blank\"><span style=\"color: #7f7f7f; text-decoration-color: #7f7f7f\">warnings.py</span></a><span style=\"color: #7f7f7f; text-decoration-color: #7f7f7f\">:</span><a href=\"file:///Users/bringmannj/miniconda3/envs/kedro-environment/lib/python3.10/warnings.py#109\" target=\"_blank\"><span style=\"color: #7f7f7f; text-decoration-color: #7f7f7f\">109</span></a>\n",
       "<span style=\"color: #7fbfbf; text-decoration-color: #7fbfbf\">                    </span>         <span style=\"color: #800080; text-decoration-color: #800080\">e-packages/fs/opener/</span><span style=\"color: #ff00ff; text-decoration-color: #ff00ff\">__init__.py</span>:<span style=\"color: #008080; text-decoration-color: #008080; font-weight: bold\">6</span>: DeprecationWarning: Deprecated     <span style=\"color: #7f7f7f; text-decoration-color: #7f7f7f\">               </span>\n",
       "<span style=\"color: #7fbfbf; text-decoration-color: #7fbfbf\">                    </span>         call to `<span style=\"color: #800080; text-decoration-color: #800080; font-weight: bold\">pkg_resources.declare_namespace</span><span style=\"font-weight: bold\">(</span><span style=\"color: #008000; text-decoration-color: #008000\">'fs.opener'</span><span style=\"font-weight: bold\">)</span>`.                <span style=\"color: #7f7f7f; text-decoration-color: #7f7f7f\">               </span>\n",
       "<span style=\"color: #7fbfbf; text-decoration-color: #7fbfbf\">                    </span>         Implementing implicit namespace packages <span style=\"font-weight: bold\">(</span>as specified in PEP <span style=\"color: #008080; text-decoration-color: #008080; font-weight: bold\">420</span><span style=\"font-weight: bold\">)</span> is  <span style=\"color: #7f7f7f; text-decoration-color: #7f7f7f\">               </span>\n",
       "<span style=\"color: #7fbfbf; text-decoration-color: #7fbfbf\">                    </span>         preferred to `pkg_resources.declare_namespace`. See                    <span style=\"color: #7f7f7f; text-decoration-color: #7f7f7f\">               </span>\n",
       "<span style=\"color: #7fbfbf; text-decoration-color: #7fbfbf\">                    </span>         <span style=\"color: #0000ff; text-decoration-color: #0000ff; text-decoration: underline\">https://setuptools.pypa.io/en/latest/references/keywords.html#keyword-</span> <span style=\"color: #7f7f7f; text-decoration-color: #7f7f7f\">               </span>\n",
       "<span style=\"color: #7fbfbf; text-decoration-color: #7fbfbf\">                    </span>         <span style=\"color: #0000ff; text-decoration-color: #0000ff; text-decoration: underline\">namespace-packages</span>                                                     <span style=\"color: #7f7f7f; text-decoration-color: #7f7f7f\">               </span>\n",
       "<span style=\"color: #7fbfbf; text-decoration-color: #7fbfbf\">                    </span>           <span style=\"color: #800080; text-decoration-color: #800080; font-weight: bold\">__import__</span><span style=\"font-weight: bold\">(</span><span style=\"color: #008000; text-decoration-color: #008000\">\"pkg_resources\"</span><span style=\"font-weight: bold\">)</span><span style=\"color: #800080; text-decoration-color: #800080; font-weight: bold\">.declare_namespace</span><span style=\"font-weight: bold\">(</span>__name__<span style=\"font-weight: bold\">)</span>  # type:     <span style=\"color: #7f7f7f; text-decoration-color: #7f7f7f\">               </span>\n",
       "<span style=\"color: #7fbfbf; text-decoration-color: #7fbfbf\">                    </span>         ignore                                                                 <span style=\"color: #7f7f7f; text-decoration-color: #7f7f7f\">               </span>\n",
       "<span style=\"color: #7fbfbf; text-decoration-color: #7fbfbf\">                    </span>                                                                                <span style=\"color: #7f7f7f; text-decoration-color: #7f7f7f\">               </span>\n",
       "</pre>\n"
      ],
      "text/plain": [
       "\u001b[2;36m                   \u001b[0m\u001b[2;36m \u001b[0m\u001b[31mWARNING \u001b[0m \u001b[35m/Users/bringmannj/miniconda3/envs/kedro-environment/lib/python3.10/sit\u001b[0m \u001b]8;id=783422;file:///Users/bringmannj/miniconda3/envs/kedro-environment/lib/python3.10/warnings.py\u001b\\\u001b[2mwarnings.py\u001b[0m\u001b]8;;\u001b\\\u001b[2m:\u001b[0m\u001b]8;id=625266;file:///Users/bringmannj/miniconda3/envs/kedro-environment/lib/python3.10/warnings.py#109\u001b\\\u001b[2m109\u001b[0m\u001b]8;;\u001b\\\n",
       "\u001b[2;36m                    \u001b[0m         \u001b[35me-packages/fs/opener/\u001b[0m\u001b[95m__init__.py\u001b[0m:\u001b[1;36m6\u001b[0m: DeprecationWarning: Deprecated     \u001b[2m               \u001b[0m\n",
       "\u001b[2;36m                    \u001b[0m         call to `\u001b[1;35mpkg_resources.declare_namespace\u001b[0m\u001b[1m(\u001b[0m\u001b[32m'fs.opener'\u001b[0m\u001b[1m)\u001b[0m`.                \u001b[2m               \u001b[0m\n",
       "\u001b[2;36m                    \u001b[0m         Implementing implicit namespace packages \u001b[1m(\u001b[0mas specified in PEP \u001b[1;36m420\u001b[0m\u001b[1m)\u001b[0m is  \u001b[2m               \u001b[0m\n",
       "\u001b[2;36m                    \u001b[0m         preferred to `pkg_resources.declare_namespace`. See                    \u001b[2m               \u001b[0m\n",
       "\u001b[2;36m                    \u001b[0m         \u001b[4;94mhttps://setuptools.pypa.io/en/latest/references/keywords.html#keyword-\u001b[0m \u001b[2m               \u001b[0m\n",
       "\u001b[2;36m                    \u001b[0m         \u001b[4;94mnamespace-packages\u001b[0m                                                     \u001b[2m               \u001b[0m\n",
       "\u001b[2;36m                    \u001b[0m           \u001b[1;35m__import__\u001b[0m\u001b[1m(\u001b[0m\u001b[32m\"pkg_resources\"\u001b[0m\u001b[1m)\u001b[0m\u001b[1;35m.declare_namespace\u001b[0m\u001b[1m(\u001b[0m__name__\u001b[1m)\u001b[0m  # type:     \u001b[2m               \u001b[0m\n",
       "\u001b[2;36m                    \u001b[0m         ignore                                                                 \u001b[2m               \u001b[0m\n",
       "\u001b[2;36m                    \u001b[0m                                                                                \u001b[2m               \u001b[0m\n"
      ]
     },
     "metadata": {},
     "output_type": "display_data"
    },
    {
     "data": {
      "text/html": [
       "<pre style=\"white-space:pre;overflow-x:auto;line-height:normal;font-family:Menlo,'DejaVu Sans Mono',consolas,'Courier New',monospace\"><span style=\"color: #7fbfbf; text-decoration-color: #7fbfbf\">[12/21/23 15:06:24] </span><span style=\"color: #800000; text-decoration-color: #800000\">WARNING </span> <span style=\"color: #800080; text-decoration-color: #800080\">/Users/bringmannj/miniconda3/envs/kedro-environment/lib/python3.10/sit</span> <a href=\"file:///Users/bringmannj/miniconda3/envs/kedro-environment/lib/python3.10/warnings.py\" target=\"_blank\"><span style=\"color: #7f7f7f; text-decoration-color: #7f7f7f\">warnings.py</span></a><span style=\"color: #7f7f7f; text-decoration-color: #7f7f7f\">:</span><a href=\"file:///Users/bringmannj/miniconda3/envs/kedro-environment/lib/python3.10/warnings.py#109\" target=\"_blank\"><span style=\"color: #7f7f7f; text-decoration-color: #7f7f7f\">109</span></a>\n",
       "<span style=\"color: #7fbfbf; text-decoration-color: #7fbfbf\">                    </span>         <span style=\"color: #800080; text-decoration-color: #800080\">e-packages/pkg_resources/</span><span style=\"color: #ff00ff; text-decoration-color: #ff00ff\">__init__.py</span>:<span style=\"color: #008080; text-decoration-color: #008080; font-weight: bold\">2350</span>: DeprecationWarning:         <span style=\"color: #7f7f7f; text-decoration-color: #7f7f7f\">               </span>\n",
       "<span style=\"color: #7fbfbf; text-decoration-color: #7fbfbf\">                    </span>         Deprecated call to `<span style=\"color: #800080; text-decoration-color: #800080; font-weight: bold\">pkg_resources.declare_namespace</span><span style=\"font-weight: bold\">(</span><span style=\"color: #008000; text-decoration-color: #008000\">'fs'</span><span style=\"font-weight: bold\">)</span>`.            <span style=\"color: #7f7f7f; text-decoration-color: #7f7f7f\">               </span>\n",
       "<span style=\"color: #7fbfbf; text-decoration-color: #7fbfbf\">                    </span>         Implementing implicit namespace packages <span style=\"font-weight: bold\">(</span>as specified in PEP <span style=\"color: #008080; text-decoration-color: #008080; font-weight: bold\">420</span><span style=\"font-weight: bold\">)</span> is  <span style=\"color: #7f7f7f; text-decoration-color: #7f7f7f\">               </span>\n",
       "<span style=\"color: #7fbfbf; text-decoration-color: #7fbfbf\">                    </span>         preferred to `pkg_resources.declare_namespace`. See                    <span style=\"color: #7f7f7f; text-decoration-color: #7f7f7f\">               </span>\n",
       "<span style=\"color: #7fbfbf; text-decoration-color: #7fbfbf\">                    </span>         <span style=\"color: #0000ff; text-decoration-color: #0000ff; text-decoration: underline\">https://setuptools.pypa.io/en/latest/references/keywords.html#keyword-</span> <span style=\"color: #7f7f7f; text-decoration-color: #7f7f7f\">               </span>\n",
       "<span style=\"color: #7fbfbf; text-decoration-color: #7fbfbf\">                    </span>         <span style=\"color: #0000ff; text-decoration-color: #0000ff; text-decoration: underline\">namespace-packages</span>                                                     <span style=\"color: #7f7f7f; text-decoration-color: #7f7f7f\">               </span>\n",
       "<span style=\"color: #7fbfbf; text-decoration-color: #7fbfbf\">                    </span>           <span style=\"color: #800080; text-decoration-color: #800080; font-weight: bold\">declare_namespace</span><span style=\"font-weight: bold\">(</span>parent<span style=\"font-weight: bold\">)</span>                                            <span style=\"color: #7f7f7f; text-decoration-color: #7f7f7f\">               </span>\n",
       "<span style=\"color: #7fbfbf; text-decoration-color: #7fbfbf\">                    </span>                                                                                <span style=\"color: #7f7f7f; text-decoration-color: #7f7f7f\">               </span>\n",
       "</pre>\n"
      ],
      "text/plain": [
       "\u001b[2;36m[12/21/23 15:06:24]\u001b[0m\u001b[2;36m \u001b[0m\u001b[31mWARNING \u001b[0m \u001b[35m/Users/bringmannj/miniconda3/envs/kedro-environment/lib/python3.10/sit\u001b[0m \u001b]8;id=802267;file:///Users/bringmannj/miniconda3/envs/kedro-environment/lib/python3.10/warnings.py\u001b\\\u001b[2mwarnings.py\u001b[0m\u001b]8;;\u001b\\\u001b[2m:\u001b[0m\u001b]8;id=139550;file:///Users/bringmannj/miniconda3/envs/kedro-environment/lib/python3.10/warnings.py#109\u001b\\\u001b[2m109\u001b[0m\u001b]8;;\u001b\\\n",
       "\u001b[2;36m                    \u001b[0m         \u001b[35me-packages/pkg_resources/\u001b[0m\u001b[95m__init__.py\u001b[0m:\u001b[1;36m2350\u001b[0m: DeprecationWarning:         \u001b[2m               \u001b[0m\n",
       "\u001b[2;36m                    \u001b[0m         Deprecated call to `\u001b[1;35mpkg_resources.declare_namespace\u001b[0m\u001b[1m(\u001b[0m\u001b[32m'fs'\u001b[0m\u001b[1m)\u001b[0m`.            \u001b[2m               \u001b[0m\n",
       "\u001b[2;36m                    \u001b[0m         Implementing implicit namespace packages \u001b[1m(\u001b[0mas specified in PEP \u001b[1;36m420\u001b[0m\u001b[1m)\u001b[0m is  \u001b[2m               \u001b[0m\n",
       "\u001b[2;36m                    \u001b[0m         preferred to `pkg_resources.declare_namespace`. See                    \u001b[2m               \u001b[0m\n",
       "\u001b[2;36m                    \u001b[0m         \u001b[4;94mhttps://setuptools.pypa.io/en/latest/references/keywords.html#keyword-\u001b[0m \u001b[2m               \u001b[0m\n",
       "\u001b[2;36m                    \u001b[0m         \u001b[4;94mnamespace-packages\u001b[0m                                                     \u001b[2m               \u001b[0m\n",
       "\u001b[2;36m                    \u001b[0m           \u001b[1;35mdeclare_namespace\u001b[0m\u001b[1m(\u001b[0mparent\u001b[1m)\u001b[0m                                            \u001b[2m               \u001b[0m\n",
       "\u001b[2;36m                    \u001b[0m                                                                                \u001b[2m               \u001b[0m\n"
      ]
     },
     "metadata": {},
     "output_type": "display_data"
    }
   ],
   "source": [
    "import pandas as pd\n",
    "import os\n",
    "import datacompy"
   ]
  },
  {
   "cell_type": "markdown",
   "metadata": {},
   "source": [
    "# Import Data"
   ]
  },
  {
   "cell_type": "code",
   "execution_count": 2,
   "metadata": {},
   "outputs": [],
   "source": [
    "df_FHFA_2023 = pd.read_excel(\"../data_FHFA/FullCountyLoanLimitList2023_HERA-BASED_FINAL_FLAT.xlsx\",skiprows=1, dtype= {\"fipsstatecode\": str,\n",
    "                                                                                                                       \"fipscountycode\": str})\n",
    "df_CT_map = pd.read_csv(\"../output_FHFA/connecticut_county_code_mapping.csv\",skiprows=1)"
   ]
  },
  {
   "cell_type": "code",
   "execution_count": 3,
   "metadata": {},
   "outputs": [],
   "source": [
    "# df_FHFA_2023.columns = [c.replace(\" \", \"\").replace(\"\\n\", \"\") for c in df_FHFA_2023.columns]\n",
    "df_FHFA_2023.columns = df_FHFA_2023.columns.str.replace(\" \", \"\").str.replace(\"\\n\", \"\")\n",
    "\n",
    "df_FHFA_2023[\"CountyName\"] = df_FHFA_2023[\"CountyName\"].str.replace(\" \",\"\")\n",
    "# df_FHFA_2023[\"CountyName\"] = df_FHFA_2023[\"CountyName\"].str.strip()"
   ]
  },
  {
   "cell_type": "markdown",
   "metadata": {},
   "source": [
    "# Print first 5 rows"
   ]
  },
  {
   "cell_type": "code",
   "execution_count": 8,
   "metadata": {},
   "outputs": [
    {
     "data": {
      "text/html": [
       "<pre style=\"white-space:pre;overflow-x:auto;line-height:normal;font-family:Menlo,'DejaVu Sans Mono',consolas,'Courier New',monospace\"></pre>\n"
      ],
      "text/plain": []
     },
     "metadata": {},
     "output_type": "display_data"
    },
    {
     "data": {
      "text/plain": [
       "\n",
       "\u001b[1;35mIndex\u001b[0m\u001b[1m(\u001b[0m\u001b[1m[\u001b[0m\u001b[32m'FIPSStateCode'\u001b[0m, \u001b[32m'FIPSCountyCode'\u001b[0m, \u001b[32m'CountyName'\u001b[0m, \u001b[32m'State'\u001b[0m, \u001b[32m'CBSANumber'\u001b[0m,\n",
       "       \u001b[32m'One-UnitLimit'\u001b[0m, \u001b[32m'Two-UnitLimit'\u001b[0m, \u001b[32m'Three-UnitLimit'\u001b[0m, \u001b[32m'Four-UnitLimit'\u001b[0m\u001b[1m]\u001b[0m,\n",
       "      \u001b[33mdtype\u001b[0m=\u001b[32m'object'\u001b[0m\u001b[1m)\u001b[0m"
      ]
     },
     "execution_count": 8,
     "metadata": {},
     "output_type": "execute_result"
    }
   ],
   "source": [
    "df_FHFA_2023.columns"
   ]
  },
  {
   "cell_type": "code",
   "execution_count": 4,
   "metadata": {},
   "outputs": [
    {
     "data": {
      "text/html": [
       "<pre style=\"white-space:pre;overflow-x:auto;line-height:normal;font-family:Menlo,'DejaVu Sans Mono',consolas,'Courier New',monospace\"></pre>\n"
      ],
      "text/plain": []
     },
     "metadata": {},
     "output_type": "display_data"
    },
    {
     "data": {
      "text/html": [
       "<div>\n",
       "<style scoped>\n",
       "    .dataframe tbody tr th:only-of-type {\n",
       "        vertical-align: middle;\n",
       "    }\n",
       "\n",
       "    .dataframe tbody tr th {\n",
       "        vertical-align: top;\n",
       "    }\n",
       "\n",
       "    .dataframe thead th {\n",
       "        text-align: right;\n",
       "    }\n",
       "</style>\n",
       "<table border=\"1\" class=\"dataframe\">\n",
       "  <thead>\n",
       "    <tr style=\"text-align: right;\">\n",
       "      <th></th>\n",
       "      <th>FIPSStateCode</th>\n",
       "      <th>FIPSCountyCode</th>\n",
       "      <th>CountyName</th>\n",
       "      <th>State</th>\n",
       "      <th>CBSANumber</th>\n",
       "      <th>One-UnitLimit</th>\n",
       "      <th>Two-UnitLimit</th>\n",
       "      <th>Three-UnitLimit</th>\n",
       "      <th>Four-UnitLimit</th>\n",
       "    </tr>\n",
       "  </thead>\n",
       "  <tbody>\n",
       "    <tr>\n",
       "      <th>0</th>\n",
       "      <td>1</td>\n",
       "      <td>1</td>\n",
       "      <td>AUTAUGACOUNTY</td>\n",
       "      <td>AL</td>\n",
       "      <td>33860.0</td>\n",
       "      <td>726200</td>\n",
       "      <td>929850</td>\n",
       "      <td>1123900</td>\n",
       "      <td>1396800</td>\n",
       "    </tr>\n",
       "    <tr>\n",
       "      <th>1</th>\n",
       "      <td>1</td>\n",
       "      <td>3</td>\n",
       "      <td>BALDWINCOUNTY</td>\n",
       "      <td>AL</td>\n",
       "      <td>19300.0</td>\n",
       "      <td>726200</td>\n",
       "      <td>929850</td>\n",
       "      <td>1123900</td>\n",
       "      <td>1396800</td>\n",
       "    </tr>\n",
       "    <tr>\n",
       "      <th>2</th>\n",
       "      <td>1</td>\n",
       "      <td>5</td>\n",
       "      <td>BARBOURCOUNTY</td>\n",
       "      <td>AL</td>\n",
       "      <td>21640.0</td>\n",
       "      <td>726200</td>\n",
       "      <td>929850</td>\n",
       "      <td>1123900</td>\n",
       "      <td>1396800</td>\n",
       "    </tr>\n",
       "    <tr>\n",
       "      <th>3</th>\n",
       "      <td>1</td>\n",
       "      <td>7</td>\n",
       "      <td>BIBBCOUNTY</td>\n",
       "      <td>AL</td>\n",
       "      <td>13820.0</td>\n",
       "      <td>726200</td>\n",
       "      <td>929850</td>\n",
       "      <td>1123900</td>\n",
       "      <td>1396800</td>\n",
       "    </tr>\n",
       "    <tr>\n",
       "      <th>4</th>\n",
       "      <td>1</td>\n",
       "      <td>9</td>\n",
       "      <td>BLOUNTCOUNTY</td>\n",
       "      <td>AL</td>\n",
       "      <td>13820.0</td>\n",
       "      <td>726200</td>\n",
       "      <td>929850</td>\n",
       "      <td>1123900</td>\n",
       "      <td>1396800</td>\n",
       "    </tr>\n",
       "  </tbody>\n",
       "</table>\n",
       "</div>"
      ],
      "text/plain": [
       "\n",
       "   FIPSStateCode  FIPSCountyCode     CountyName State  CBSANumber  \\\n",
       "\u001b[1;36m0\u001b[0m              \u001b[1;36m1\u001b[0m               \u001b[1;36m1\u001b[0m  AUTAUGACOUNTY    AL     \u001b[1;36m33860.0\u001b[0m   \n",
       "\u001b[1;36m1\u001b[0m              \u001b[1;36m1\u001b[0m               \u001b[1;36m3\u001b[0m  BALDWINCOUNTY    AL     \u001b[1;36m19300.0\u001b[0m   \n",
       "\u001b[1;36m2\u001b[0m              \u001b[1;36m1\u001b[0m               \u001b[1;36m5\u001b[0m  BARBOURCOUNTY    AL     \u001b[1;36m21640.0\u001b[0m   \n",
       "\u001b[1;36m3\u001b[0m              \u001b[1;36m1\u001b[0m               \u001b[1;36m7\u001b[0m     BIBBCOUNTY    AL     \u001b[1;36m13820.0\u001b[0m   \n",
       "\u001b[1;36m4\u001b[0m              \u001b[1;36m1\u001b[0m               \u001b[1;36m9\u001b[0m   BLOUNTCOUNTY    AL     \u001b[1;36m13820.0\u001b[0m   \n",
       "\n",
       "   One-UnitLimit  Two-UnitLimit  Three-UnitLimit  Four-UnitLimit  \n",
       "\u001b[1;36m0\u001b[0m         \u001b[1;36m726200\u001b[0m         \u001b[1;36m929850\u001b[0m          \u001b[1;36m1123900\u001b[0m         \u001b[1;36m1396800\u001b[0m  \n",
       "\u001b[1;36m1\u001b[0m         \u001b[1;36m726200\u001b[0m         \u001b[1;36m929850\u001b[0m          \u001b[1;36m1123900\u001b[0m         \u001b[1;36m1396800\u001b[0m  \n",
       "\u001b[1;36m2\u001b[0m         \u001b[1;36m726200\u001b[0m         \u001b[1;36m929850\u001b[0m          \u001b[1;36m1123900\u001b[0m         \u001b[1;36m1396800\u001b[0m  \n",
       "\u001b[1;36m3\u001b[0m         \u001b[1;36m726200\u001b[0m         \u001b[1;36m929850\u001b[0m          \u001b[1;36m1123900\u001b[0m         \u001b[1;36m1396800\u001b[0m  \n",
       "\u001b[1;36m4\u001b[0m         \u001b[1;36m726200\u001b[0m         \u001b[1;36m929850\u001b[0m          \u001b[1;36m1123900\u001b[0m         \u001b[1;36m1396800\u001b[0m  "
      ]
     },
     "execution_count": 4,
     "metadata": {},
     "output_type": "execute_result"
    }
   ],
   "source": [
    "df_FHFA_2023.head()"
   ]
  },
  {
   "cell_type": "markdown",
   "metadata": {},
   "source": [
    "# Describe"
   ]
  },
  {
   "cell_type": "code",
   "execution_count": 5,
   "metadata": {},
   "outputs": [
    {
     "data": {
      "text/html": [
       "<pre style=\"white-space:pre;overflow-x:auto;line-height:normal;font-family:Menlo,'DejaVu Sans Mono',consolas,'Courier New',monospace\"></pre>\n"
      ],
      "text/plain": []
     },
     "metadata": {},
     "output_type": "display_data"
    },
    {
     "data": {
      "text/html": [
       "<div>\n",
       "<style scoped>\n",
       "    .dataframe tbody tr th:only-of-type {\n",
       "        vertical-align: middle;\n",
       "    }\n",
       "\n",
       "    .dataframe tbody tr th {\n",
       "        vertical-align: top;\n",
       "    }\n",
       "\n",
       "    .dataframe thead th {\n",
       "        text-align: right;\n",
       "    }\n",
       "</style>\n",
       "<table border=\"1\" class=\"dataframe\">\n",
       "  <thead>\n",
       "    <tr style=\"text-align: right;\">\n",
       "      <th></th>\n",
       "      <th>FIPSStateCode</th>\n",
       "      <th>FIPSCountyCode</th>\n",
       "      <th>CBSANumber</th>\n",
       "      <th>One-UnitLimit</th>\n",
       "      <th>Two-UnitLimit</th>\n",
       "      <th>Three-UnitLimit</th>\n",
       "      <th>Four-UnitLimit</th>\n",
       "    </tr>\n",
       "  </thead>\n",
       "  <tbody>\n",
       "    <tr>\n",
       "      <th>count</th>\n",
       "      <td>3234.000000</td>\n",
       "      <td>3234.000000</td>\n",
       "      <td>1916.000000</td>\n",
       "      <td>3.234000e+03</td>\n",
       "      <td>3.234000e+03</td>\n",
       "      <td>3.234000e+03</td>\n",
       "      <td>3.234000e+03</td>\n",
       "    </tr>\n",
       "    <tr>\n",
       "      <th>mean</th>\n",
       "      <td>31.426716</td>\n",
       "      <td>102.632035</td>\n",
       "      <td>29858.727035</td>\n",
       "      <td>7.400441e+05</td>\n",
       "      <td>9.475727e+05</td>\n",
       "      <td>1.145323e+06</td>\n",
       "      <td>1.423423e+06</td>\n",
       "    </tr>\n",
       "    <tr>\n",
       "      <th>std</th>\n",
       "      <td>16.415792</td>\n",
       "      <td>106.514024</td>\n",
       "      <td>11564.268516</td>\n",
       "      <td>6.639690e+04</td>\n",
       "      <td>8.501013e+04</td>\n",
       "      <td>1.027537e+05</td>\n",
       "      <td>1.277013e+05</td>\n",
       "    </tr>\n",
       "    <tr>\n",
       "      <th>min</th>\n",
       "      <td>1.000000</td>\n",
       "      <td>1.000000</td>\n",
       "      <td>10100.000000</td>\n",
       "      <td>7.262000e+05</td>\n",
       "      <td>9.298500e+05</td>\n",
       "      <td>1.123900e+06</td>\n",
       "      <td>1.396800e+06</td>\n",
       "    </tr>\n",
       "    <tr>\n",
       "      <th>25%</th>\n",
       "      <td>19.000000</td>\n",
       "      <td>35.000000</td>\n",
       "      <td>19330.000000</td>\n",
       "      <td>7.262000e+05</td>\n",
       "      <td>9.298500e+05</td>\n",
       "      <td>1.123900e+06</td>\n",
       "      <td>1.396800e+06</td>\n",
       "    </tr>\n",
       "    <tr>\n",
       "      <th>50%</th>\n",
       "      <td>30.000000</td>\n",
       "      <td>79.000000</td>\n",
       "      <td>30240.000000</td>\n",
       "      <td>7.262000e+05</td>\n",
       "      <td>9.298500e+05</td>\n",
       "      <td>1.123900e+06</td>\n",
       "      <td>1.396800e+06</td>\n",
       "    </tr>\n",
       "    <tr>\n",
       "      <th>75%</th>\n",
       "      <td>46.000000</td>\n",
       "      <td>133.000000</td>\n",
       "      <td>40060.000000</td>\n",
       "      <td>7.262000e+05</td>\n",
       "      <td>9.298500e+05</td>\n",
       "      <td>1.123900e+06</td>\n",
       "      <td>1.396800e+06</td>\n",
       "    </tr>\n",
       "    <tr>\n",
       "      <th>max</th>\n",
       "      <td>78.000000</td>\n",
       "      <td>840.000000</td>\n",
       "      <td>49820.000000</td>\n",
       "      <td>1.089300e+06</td>\n",
       "      <td>1.394775e+06</td>\n",
       "      <td>1.685850e+06</td>\n",
       "      <td>2.095200e+06</td>\n",
       "    </tr>\n",
       "  </tbody>\n",
       "</table>\n",
       "</div>"
      ],
      "text/plain": [
       "\n",
       "       FIPSStateCode  FIPSCountyCode    CBSANumber  One-UnitLimit  \\\n",
       "count    \u001b[1;36m3234.000000\u001b[0m     \u001b[1;36m3234.000000\u001b[0m   \u001b[1;36m1916.000000\u001b[0m   \u001b[1;36m3.234000e+03\u001b[0m   \n",
       "mean       \u001b[1;36m31.426716\u001b[0m      \u001b[1;36m102.632035\u001b[0m  \u001b[1;36m29858.727035\u001b[0m   \u001b[1;36m7.400441e+05\u001b[0m   \n",
       "std        \u001b[1;36m16.415792\u001b[0m      \u001b[1;36m106.514024\u001b[0m  \u001b[1;36m11564.268516\u001b[0m   \u001b[1;36m6.639690e+04\u001b[0m   \n",
       "min         \u001b[1;36m1.000000\u001b[0m        \u001b[1;36m1.000000\u001b[0m  \u001b[1;36m10100.000000\u001b[0m   \u001b[1;36m7.262000e+05\u001b[0m   \n",
       "\u001b[1;36m25\u001b[0m%        \u001b[1;36m19.000000\u001b[0m       \u001b[1;36m35.000000\u001b[0m  \u001b[1;36m19330.000000\u001b[0m   \u001b[1;36m7.262000e+05\u001b[0m   \n",
       "\u001b[1;36m50\u001b[0m%        \u001b[1;36m30.000000\u001b[0m       \u001b[1;36m79.000000\u001b[0m  \u001b[1;36m30240.000000\u001b[0m   \u001b[1;36m7.262000e+05\u001b[0m   \n",
       "\u001b[1;36m75\u001b[0m%        \u001b[1;36m46.000000\u001b[0m      \u001b[1;36m133.000000\u001b[0m  \u001b[1;36m40060.000000\u001b[0m   \u001b[1;36m7.262000e+05\u001b[0m   \n",
       "max        \u001b[1;36m78.000000\u001b[0m      \u001b[1;36m840.000000\u001b[0m  \u001b[1;36m49820.000000\u001b[0m   \u001b[1;36m1.089300e+06\u001b[0m   \n",
       "\n",
       "       Two-UnitLimit  Three-UnitLimit  Four-UnitLimit  \n",
       "count   \u001b[1;36m3.234000e+03\u001b[0m     \u001b[1;36m3.234000e+03\u001b[0m    \u001b[1;36m3.234000e+03\u001b[0m  \n",
       "mean    \u001b[1;36m9.475727e+05\u001b[0m     \u001b[1;36m1.145323e+06\u001b[0m    \u001b[1;36m1.423423e+06\u001b[0m  \n",
       "std     \u001b[1;36m8.501013e+04\u001b[0m     \u001b[1;36m1.027537e+05\u001b[0m    \u001b[1;36m1.277013e+05\u001b[0m  \n",
       "min     \u001b[1;36m9.298500e+05\u001b[0m     \u001b[1;36m1.123900e+06\u001b[0m    \u001b[1;36m1.396800e+06\u001b[0m  \n",
       "\u001b[1;36m25\u001b[0m%     \u001b[1;36m9.298500e+05\u001b[0m     \u001b[1;36m1.123900e+06\u001b[0m    \u001b[1;36m1.396800e+06\u001b[0m  \n",
       "\u001b[1;36m50\u001b[0m%     \u001b[1;36m9.298500e+05\u001b[0m     \u001b[1;36m1.123900e+06\u001b[0m    \u001b[1;36m1.396800e+06\u001b[0m  \n",
       "\u001b[1;36m75\u001b[0m%     \u001b[1;36m9.298500e+05\u001b[0m     \u001b[1;36m1.123900e+06\u001b[0m    \u001b[1;36m1.396800e+06\u001b[0m  \n",
       "max     \u001b[1;36m1.394775e+06\u001b[0m     \u001b[1;36m1.685850e+06\u001b[0m    \u001b[1;36m2.095200e+06\u001b[0m  "
      ]
     },
     "execution_count": 5,
     "metadata": {},
     "output_type": "execute_result"
    }
   ],
   "source": [
    "df_FHFA_2023.describe()"
   ]
  },
  {
   "cell_type": "markdown",
   "metadata": {},
   "source": [
    "# Null Counts"
   ]
  },
  {
   "cell_type": "code",
   "execution_count": 6,
   "metadata": {},
   "outputs": [
    {
     "name": "stdout",
     "output_type": "stream",
     "text": [
      "**my_FHFA\n",
      "\n",
      "FIPSStateCode         0\n",
      "FIPSCountyCode        0\n",
      "CountyName            0\n",
      "State                 0\n",
      "CBSANumber         1318\n",
      "One-UnitLimit         0\n",
      "Two-UnitLimit         0\n",
      "Three-UnitLimit       0\n",
      "Four-UnitLimit        0\n",
      "dtype: int64\n"
     ]
    }
   ],
   "source": [
    "print(\"**my_FHFA\")\n",
    "print()\n",
    "print(df_FHFA_2023.isna().sum())"
   ]
  },
  {
   "cell_type": "code",
   "execution_count": 7,
   "metadata": {},
   "outputs": [
    {
     "name": "stdout",
     "output_type": "stream",
     "text": [
      "<class 'pandas.core.frame.DataFrame'>\n",
      "RangeIndex: 3234 entries, 0 to 3233\n",
      "Data columns (total 9 columns):\n",
      " #   Column           Non-Null Count  Dtype  \n",
      "---  ------           --------------  -----  \n",
      " 0   FIPSStateCode    3234 non-null   int64  \n",
      " 1   FIPSCountyCode   3234 non-null   int64  \n",
      " 2   CountyName       3234 non-null   object \n",
      " 3   State            3234 non-null   object \n",
      " 4   CBSANumber       1916 non-null   float64\n",
      " 5   One-UnitLimit    3234 non-null   int64  \n",
      " 6   Two-UnitLimit    3234 non-null   int64  \n",
      " 7   Three-UnitLimit  3234 non-null   int64  \n",
      " 8   Four-UnitLimit   3234 non-null   int64  \n",
      "dtypes: float64(1), int64(6), object(2)\n",
      "memory usage: 227.5+ KB\n"
     ]
    }
   ],
   "source": [
    "df_FHFA_2023.info()"
   ]
  },
  {
   "cell_type": "code",
   "execution_count": null,
   "metadata": {},
   "outputs": [],
   "source": [
    "df_FHFA_2023.head()"
   ]
  },
  {
   "cell_type": "markdown",
   "metadata": {},
   "source": [
    "# add new CT county code column"
   ]
  },
  {
   "cell_type": "code",
   "execution_count": null,
   "metadata": {},
   "outputs": [],
   "source": []
  },
  {
   "cell_type": "markdown",
   "metadata": {},
   "source": [
    "# Write Output"
   ]
  },
  {
   "cell_type": "code",
   "execution_count": null,
   "metadata": {},
   "outputs": [],
   "source": [
    "df_FHFA_2023.to_csv(\"../output_FHFA/\" + \"FullCountyLoanLimitList{year}.{end}\".format(year=\"2023\", end=\"txt\"), \n",
    "\t\t\t\t\t\t\t\t   index=False, \n",
    "\t\t\t\t\t\t\t\t   sep=\"|\")\n",
    "\n"
   ]
  }
 ],
 "metadata": {
  "kernelspec": {
   "display_name": "Kedro (spaceflights)",
   "language": "python",
   "name": "kedro_spaceflights"
  },
  "language_info": {
   "codemirror_mode": {
    "name": "ipython",
    "version": 3
   },
   "file_extension": ".py",
   "mimetype": "text/x-python",
   "name": "python",
   "nbconvert_exporter": "python",
   "pygments_lexer": "ipython3",
   "version": "3.10.13"
  }
 },
 "nbformat": 4,
 "nbformat_minor": 2
}
