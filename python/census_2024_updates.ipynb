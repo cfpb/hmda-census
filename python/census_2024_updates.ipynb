{
 "cells": [
  {
   "cell_type": "markdown",
   "metadata": {},
   "source": [
    "# Setup"
   ]
  },
  {
   "cell_type": "code",
   "execution_count": 1,
   "metadata": {},
   "outputs": [],
   "source": [
    "import pandas as pd\n",
    "import os\n",
    "import datacompy\n",
    "import numpy as np"
   ]
  },
  {
   "cell_type": "markdown",
   "metadata": {},
   "source": [
    "#### This notebook creates the census 2024 file based off the 2023 file.  \n",
    "##### The census 2023 file has the following updates applied to it.\n",
    "* if median age = 2002, then set it to 6"
   ]
  },
  {
   "cell_type": "markdown",
   "metadata": {},
   "source": [
    "# Import Data"
   ]
  },
  {
   "cell_type": "code",
   "execution_count": 14,
   "metadata": {},
   "outputs": [],
   "source": [
    "# this census file includes includes both old and new CT county code rows\n",
    "df_census_2023 = pd.read_csv(\"../output_FHFA/ffiec_census_2023_includes_new_CT_county_codes.txt\",delimiter=\"|\", dtype= {\"State\": str,   \"County\": str})\n",
    "\n",
    "df_census_2024 = df_census_2023.copy()\n",
    "\n",
    "# df_CT_map = pd.read_csv(\"../output_FHFA/connecticut_county_code_mapping.csv\")"
   ]
  },
  {
   "cell_type": "markdown",
   "metadata": {},
   "source": [
    "# Print first 5 rows"
   ]
  },
  {
   "cell_type": "code",
   "execution_count": 15,
   "metadata": {},
   "outputs": [
    {
     "data": {
      "text/plain": [
       "Index(['Collection Year', 'MSA/MD', 'State', 'County', 'Census Tract',\n",
       "       'FFIEC Median Family Income', 'Population', 'Minority Population %',\n",
       "       'Number of Owner Occupied Units', 'Number of 1 to 4 Family Units',\n",
       "       'Tract MFI', 'Tract to MSA Income %', 'Median Age', 'Small County',\n",
       "       'MSA/MD Name'],\n",
       "      dtype='object')"
      ]
     },
     "execution_count": 15,
     "metadata": {},
     "output_type": "execute_result"
    }
   ],
   "source": [
    "df_census_2024.columns"
   ]
  },
  {
   "cell_type": "code",
   "execution_count": 16,
   "metadata": {},
   "outputs": [
    {
     "data": {
      "text/plain": [
       "(88182, 15)"
      ]
     },
     "execution_count": 16,
     "metadata": {},
     "output_type": "execute_result"
    }
   ],
   "source": [
    "df_census_2024.shape"
   ]
  },
  {
   "cell_type": "code",
   "execution_count": 4,
   "metadata": {},
   "outputs": [
    {
     "data": {
      "text/html": [
       "<div>\n",
       "<style scoped>\n",
       "    .dataframe tbody tr th:only-of-type {\n",
       "        vertical-align: middle;\n",
       "    }\n",
       "\n",
       "    .dataframe tbody tr th {\n",
       "        vertical-align: top;\n",
       "    }\n",
       "\n",
       "    .dataframe thead th {\n",
       "        text-align: right;\n",
       "    }\n",
       "</style>\n",
       "<table border=\"1\" class=\"dataframe\">\n",
       "  <thead>\n",
       "    <tr style=\"text-align: right;\">\n",
       "      <th></th>\n",
       "      <th>Collection Year</th>\n",
       "      <th>MSA/MD</th>\n",
       "      <th>State</th>\n",
       "      <th>County</th>\n",
       "      <th>Census Tract</th>\n",
       "      <th>FFIEC Median Family Income</th>\n",
       "      <th>Population</th>\n",
       "      <th>Minority Population %</th>\n",
       "      <th>Number of Owner Occupied Units</th>\n",
       "      <th>Number of 1 to 4 Family Units</th>\n",
       "      <th>Tract MFI</th>\n",
       "      <th>Tract to MSA Income %</th>\n",
       "      <th>Median Age</th>\n",
       "      <th>Small County</th>\n",
       "      <th>MSA/MD Name</th>\n",
       "    </tr>\n",
       "  </thead>\n",
       "  <tbody>\n",
       "    <tr>\n",
       "      <th>0</th>\n",
       "      <td>2023</td>\n",
       "      <td>33860</td>\n",
       "      <td>01</td>\n",
       "      <td>001</td>\n",
       "      <td>20100</td>\n",
       "      <td>68115</td>\n",
       "      <td>1775.0</td>\n",
       "      <td>22.48</td>\n",
       "      <td>507.0</td>\n",
       "      <td>710.0</td>\n",
       "      <td>70699.0</td>\n",
       "      <td>103.79</td>\n",
       "      <td>40.0</td>\n",
       "      <td>T</td>\n",
       "      <td>Montgomery, AL</td>\n",
       "    </tr>\n",
       "    <tr>\n",
       "      <th>1</th>\n",
       "      <td>2023</td>\n",
       "      <td>33860</td>\n",
       "      <td>01</td>\n",
       "      <td>001</td>\n",
       "      <td>20200</td>\n",
       "      <td>68115</td>\n",
       "      <td>2055.0</td>\n",
       "      <td>59.42</td>\n",
       "      <td>392.0</td>\n",
       "      <td>717.0</td>\n",
       "      <td>50133.0</td>\n",
       "      <td>73.60</td>\n",
       "      <td>48.0</td>\n",
       "      <td>T</td>\n",
       "      <td>Montgomery, AL</td>\n",
       "    </tr>\n",
       "    <tr>\n",
       "      <th>2</th>\n",
       "      <td>2023</td>\n",
       "      <td>33860</td>\n",
       "      <td>01</td>\n",
       "      <td>001</td>\n",
       "      <td>20300</td>\n",
       "      <td>68115</td>\n",
       "      <td>3216.0</td>\n",
       "      <td>30.97</td>\n",
       "      <td>967.0</td>\n",
       "      <td>1401.0</td>\n",
       "      <td>70111.0</td>\n",
       "      <td>102.93</td>\n",
       "      <td>44.0</td>\n",
       "      <td>T</td>\n",
       "      <td>Montgomery, AL</td>\n",
       "    </tr>\n",
       "    <tr>\n",
       "      <th>3</th>\n",
       "      <td>2023</td>\n",
       "      <td>33860</td>\n",
       "      <td>01</td>\n",
       "      <td>001</td>\n",
       "      <td>20400</td>\n",
       "      <td>68115</td>\n",
       "      <td>4246.0</td>\n",
       "      <td>17.05</td>\n",
       "      <td>1290.0</td>\n",
       "      <td>1598.0</td>\n",
       "      <td>75580.0</td>\n",
       "      <td>110.95</td>\n",
       "      <td>48.0</td>\n",
       "      <td>T</td>\n",
       "      <td>Montgomery, AL</td>\n",
       "    </tr>\n",
       "    <tr>\n",
       "      <th>4</th>\n",
       "      <td>2023</td>\n",
       "      <td>33860</td>\n",
       "      <td>01</td>\n",
       "      <td>001</td>\n",
       "      <td>20501</td>\n",
       "      <td>68115</td>\n",
       "      <td>4322.0</td>\n",
       "      <td>25.71</td>\n",
       "      <td>1024.0</td>\n",
       "      <td>1659.0</td>\n",
       "      <td>90879.0</td>\n",
       "      <td>133.41</td>\n",
       "      <td>29.0</td>\n",
       "      <td>T</td>\n",
       "      <td>Montgomery, AL</td>\n",
       "    </tr>\n",
       "  </tbody>\n",
       "</table>\n",
       "</div>"
      ],
      "text/plain": [
       "   Collection Year  MSA/MD State County  Census Tract  \\\n",
       "0             2023   33860    01    001         20100   \n",
       "1             2023   33860    01    001         20200   \n",
       "2             2023   33860    01    001         20300   \n",
       "3             2023   33860    01    001         20400   \n",
       "4             2023   33860    01    001         20501   \n",
       "\n",
       "   FFIEC Median Family Income  Population  Minority Population %  \\\n",
       "0                       68115      1775.0                  22.48   \n",
       "1                       68115      2055.0                  59.42   \n",
       "2                       68115      3216.0                  30.97   \n",
       "3                       68115      4246.0                  17.05   \n",
       "4                       68115      4322.0                  25.71   \n",
       "\n",
       "   Number of Owner Occupied Units  Number of 1 to 4 Family Units  Tract MFI  \\\n",
       "0                           507.0                          710.0    70699.0   \n",
       "1                           392.0                          717.0    50133.0   \n",
       "2                           967.0                         1401.0    70111.0   \n",
       "3                          1290.0                         1598.0    75580.0   \n",
       "4                          1024.0                         1659.0    90879.0   \n",
       "\n",
       "   Tract to MSA Income %  Median Age Small County     MSA/MD Name  \n",
       "0                 103.79        40.0            T  Montgomery, AL  \n",
       "1                  73.60        48.0            T  Montgomery, AL  \n",
       "2                 102.93        44.0            T  Montgomery, AL  \n",
       "3                 110.95        48.0            T  Montgomery, AL  \n",
       "4                 133.41        29.0            T  Montgomery, AL  "
      ]
     },
     "execution_count": 4,
     "metadata": {},
     "output_type": "execute_result"
    }
   ],
   "source": [
    "df_census_2024.head()"
   ]
  },
  {
   "cell_type": "markdown",
   "metadata": {},
   "source": [
    "# CT update"
   ]
  },
  {
   "cell_type": "code",
   "execution_count": 6,
   "metadata": {},
   "outputs": [],
   "source": [
    "df_ct_total = df_census_2024[(df_census_2024['State' ] == '09')]\n",
    "\n",
    "df_ct_old = df_census_2024[(df_census_2024['State' ] == '09') & (df_census_2024['County'].astype(int) <= 15)]\n",
    "df_ct_new = df_census_2024[(df_census_2024['State' ] == '09') & (df_census_2024['County'].astype(int) > 15)]\n",
    "\n",
    "df_census_2024_no_CT = df_census_2024[(df_census_2024['State' ] != '09')]\n",
    "\n"
   ]
  },
  {
   "cell_type": "markdown",
   "metadata": {},
   "source": [
    "# Update Collection Year\n"
   ]
  },
  {
   "cell_type": "code",
   "execution_count": 7,
   "metadata": {},
   "outputs": [],
   "source": [
    "df_census_2024_with_new_CT_county_codes = pd.concat([df_census_2024_no_CT, df_ct_new])\n",
    "df_census_2024_with_new_CT_county_codes['Collection Year'] = 2024\n"
   ]
  },
  {
   "cell_type": "markdown",
   "metadata": {},
   "source": [
    "# check counts"
   ]
  },
  {
   "cell_type": "code",
   "execution_count": 8,
   "metadata": {},
   "outputs": [
    {
     "data": {
      "text/plain": [
       "True"
      ]
     },
     "execution_count": 8,
     "metadata": {},
     "output_type": "execute_result"
    }
   ],
   "source": [
    "df_census_2024_no_CT.shape[0] + df_ct_new.shape[0] == df_census_2024_with_new_CT_county_codes.shape[0]"
   ]
  },
  {
   "cell_type": "code",
   "execution_count": 9,
   "metadata": {},
   "outputs": [],
   "source": [
    "# if 'MSA/MD' is 99999 then 'MSA/MD Name' is \"Not applicable\"\n",
    "df_census_2024_with_new_CT_county_codes.loc[(df_census_2024_with_new_CT_county_codes['MSA/MD'] == 99999), 'MSA/MD Name'] = np.NaN"
   ]
  },
  {
   "cell_type": "code",
   "execution_count": 10,
   "metadata": {},
   "outputs": [
    {
     "data": {
      "text/plain": [
       "Collection Year                   15403\n",
       "MSA/MD                            15403\n",
       "State                             15403\n",
       "County                            15403\n",
       "Census Tract                      15403\n",
       "FFIEC Median Family Income        15403\n",
       "Population                        15401\n",
       "Minority Population %             15270\n",
       "Number of Owner Occupied Units    15401\n",
       "Number of 1 to 4 Family Units     15270\n",
       "Tract MFI                         15380\n",
       "Tract to MSA Income %             15403\n",
       "Median Age                        15270\n",
       "Small County                      15403\n",
       "MSA/MD Name                           0\n",
       "dtype: int64"
      ]
     },
     "execution_count": 10,
     "metadata": {},
     "output_type": "execute_result"
    }
   ],
   "source": [
    "df_census_2024_with_new_CT_county_codes[(df_census_2024_with_new_CT_county_codes['MSA/MD'] == 99999)].count()\n"
   ]
  },
  {
   "cell_type": "code",
   "execution_count": 11,
   "metadata": {},
   "outputs": [
    {
     "data": {
      "text/plain": [
       "Collection Year                   71896\n",
       "MSA/MD                            71896\n",
       "State                             71896\n",
       "County                            71896\n",
       "Census Tract                      71896\n",
       "FFIEC Median Family Income        71896\n",
       "Population                        71896\n",
       "Minority Population %             71896\n",
       "Number of Owner Occupied Units    71896\n",
       "Number of 1 to 4 Family Units     71896\n",
       "Tract MFI                         71896\n",
       "Tract to MSA Income %             71896\n",
       "Median Age                        71896\n",
       "Small County                      71896\n",
       "MSA/MD Name                       70884\n",
       "dtype: int64"
      ]
     },
     "execution_count": 11,
     "metadata": {},
     "output_type": "execute_result"
    }
   ],
   "source": [
    "df_census_2024_with_new_CT_county_codes[(df_census_2024_with_new_CT_county_codes['MSA/MD'] != 99999)].count()"
   ]
  },
  {
   "cell_type": "code",
   "execution_count": 12,
   "metadata": {},
   "outputs": [
    {
     "name": "stdout",
     "output_type": "stream",
     "text": [
      "<class 'pandas.core.frame.DataFrame'>\n",
      "Int64Index: 87299 entries, 0 to 88181\n",
      "Data columns (total 15 columns):\n",
      " #   Column                          Non-Null Count  Dtype  \n",
      "---  ------                          --------------  -----  \n",
      " 0   Collection Year                 87299 non-null  int64  \n",
      " 1   MSA/MD                          87299 non-null  int64  \n",
      " 2   State                           87299 non-null  object \n",
      " 3   County                          87299 non-null  object \n",
      " 4   Census Tract                    87299 non-null  int64  \n",
      " 5   FFIEC Median Family Income      87299 non-null  int64  \n",
      " 6   Population                      87297 non-null  float64\n",
      " 7   Minority Population %           87166 non-null  float64\n",
      " 8   Number of Owner Occupied Units  87297 non-null  float64\n",
      " 9   Number of 1 to 4 Family Units   87166 non-null  float64\n",
      " 10  Tract MFI                       87276 non-null  float64\n",
      " 11  Tract to MSA Income %           87299 non-null  float64\n",
      " 12  Median Age                      87166 non-null  float64\n",
      " 13  Small County                    87299 non-null  object \n",
      " 14  MSA/MD Name                     70884 non-null  object \n",
      "dtypes: float64(7), int64(4), object(4)\n",
      "memory usage: 10.7+ MB\n"
     ]
    }
   ],
   "source": [
    "df_census_2024_with_new_CT_county_codes.info()"
   ]
  },
  {
   "cell_type": "markdown",
   "metadata": {},
   "source": [
    "# Write Output"
   ]
  },
  {
   "cell_type": "code",
   "execution_count": 13,
   "metadata": {},
   "outputs": [],
   "source": [
    "df_census_2024_with_new_CT_county_codes.to_csv(\"../output_FHFA/\" + \"ffiec_census_{year}_with_new_CT_county_codes.{end}\".format(year=\"2024\", end=\"txt\"), \n",
    "\t\t\t\t\t\t\t\t   index=False, \n",
    "\t\t\t\t\t\t\t\t   sep=\"|\")\n",
    "\n"
   ]
  }
 ],
 "metadata": {
  "kernelspec": {
   "display_name": "Kedro (spaceflights)",
   "language": "python",
   "name": "kedro_spaceflights"
  },
  "language_info": {
   "codemirror_mode": {
    "name": "ipython",
    "version": 3
   },
   "file_extension": ".py",
   "mimetype": "text/x-python",
   "name": "python",
   "nbconvert_exporter": "python",
   "pygments_lexer": "ipython3",
   "version": "3.10.13"
  }
 },
 "nbformat": 4,
 "nbformat_minor": 2
}
